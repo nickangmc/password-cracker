{
 "cells": [
  {
   "cell_type": "code",
   "execution_count": 1,
   "metadata": {},
   "outputs": [],
   "source": [
    "import string\n",
    "\n",
    "f = open(\"common_passwords.txt\", \"r\")\n",
    "contents = f.readlines()"
   ]
  },
  {
   "cell_type": "code",
   "execution_count": 5,
   "metadata": {},
   "outputs": [
    {
     "name": "stdout",
     "output_type": "stream",
     "text": [
      "{'e': 317, 'o': 237, 'u': 61, 'i': 220, 'a': 548, 'p': 95, 'm': 98, 'y': 42, 'c': 11, 'b': 79, 's': 29, 'n': 13, 'l': 3, 'r': 5, '1': 8, 't': 6, 'g': 1, 'd': 7, 'w': 6, 'f': 4, 'j': 5, '7': 2, '2': 1, '5': 2, 'k': 3, 'q': 1, 'z': 2, 'x': 1, 'h': 1, '4': 1}\n"
     ]
    }
   ],
   "source": [
    "# first_char_frequency = {}\n",
    "# scf_dict = {}\n",
    "\n",
    "# for word in contents:\n",
    "#     word = word[:-1]\n",
    "#     if word[0] in first_char_frequency:\n",
    "#         first_char_frequency[word[0]] += 1\n",
    "#     else :\n",
    "#         first_char_frequency[word[0]] = 1\n",
    "        \n",
    "#     for i in range(len(word)-1):\n",
    "#         if word[i] not in scf_dict:\n",
    "#             scf_dict[word[i]] = {}\n",
    "#         if word[i+1] in scf_dict[word[i]]:\n",
    "#             scf_dict[word[i]][word[i+1]] += 1\n",
    "#         else:\n",
    "#             scf_dict[word[i]][word[i+1]] = 1\n",
    "                    \n",
    "\n",
    "# print(scf_dict['m'])"
   ]
  },
  {
   "cell_type": "code",
   "execution_count": 8,
   "metadata": {},
   "outputs": [
    {
     "name": "stdout",
     "output_type": "stream",
     "text": [
      "{'s': 238, 'w': 53, 'e': 236, 't': 535, 'h': 256, 'u': 89, 'o': 163, 'i': 179, 'd': 29, 'p': 133, 'c': 97, 'a': 220, 'n': 41, 'm': 67, 'l': 49, 'x': 11, 'k': 63, 'y': 37, 'v': 2, 'q': 11, 'b': 16, 'r': 2, 'g': 4, 'z': 2, 'f': 6}\n"
     ]
    }
   ],
   "source": [
    "first_char_frequency = {}\n",
    "for alpha in list(string.ascii_lowercase):\n",
    "    first_char_frequency[alpha] = 1\n",
    "\n",
    "scf_dict = {}\n",
    "for word in contents:\n",
    "    word = word[:-1]\n",
    "    if word[0].isalpha():\n",
    "        first_char_frequency[word[0]] += 1\n",
    "    for i in range(len(word)-1):\n",
    "        if word[i].isalpha() and word[i+1].isalpha():\n",
    "            if word[i] not in scf_dict:\n",
    "                scf_dict[word[i]] = {}\n",
    "            if word[i+1] in scf_dict[word[i]]:\n",
    "                scf_dict[word[i]][word[i+1]] += 1\n",
    "            else:\n",
    "                scf_dict[word[i]][word[i+1]] = 1\n",
    "                    \n",
    "\n",
    "print(scf_dict['s'])"
   ]
  },
  {
   "cell_type": "code",
   "execution_count": 9,
   "metadata": {},
   "outputs": [
    {
     "name": "stdout",
     "output_type": "stream",
     "text": [
      "['s', 'b', 'c', 'm', 'p', 'd', 't', 'a', 'r', 'g', 'h', 'f', 'l', 'w', 'j', 'n', 'k', 'e', 'v', 'i', 'o', 'z', 'q', 'y', 'u', 'x']\n"
     ]
    }
   ],
   "source": [
    "scfl_dict = {}\n",
    "for alpha in scf_dict.keys():\n",
    "    sorted_list = sorted(scf_dict[alpha], key=lambda k: scf_dict[alpha][k])\n",
    "    sorted_list.reverse()\n",
    "    scfl_dict[alpha] = ''.join(sorted_list)\n",
    "\n",
    "fcf_lst = sorted(first_char_frequency, key=lambda k: first_char_frequency[k])\n",
    "fcf_lst.reverse()\n",
    "\n",
    "print(fcf_lst)"
   ]
  },
  {
   "cell_type": "code",
   "execution_count": 10,
   "metadata": {},
   "outputs": [
    {
     "name": "stdout",
     "output_type": "stream",
     "text": [
      "s\n",
      "thseaiopcumkwlnydbqxfgzrvTHSEAIOPCUMKWLNYDBQXFGZRV\n",
      "b\n",
      "eoaiulrbycsnmgdvtjhkxqfpzwEOAIULRBYCSNMGDVTJHKXQFPZW\n",
      "c\n",
      "haokerlicutysdmvqbfxnwgjzHAOKERLICUTYSDMVQBFXNWGJZ\n",
      "m\n",
      "aeoimpbuysncdwtjrfklzhxqgAEOIMPBUYSNCDWTJRFKLZHXQG\n",
      "p\n",
      "eaiophrluystkdmzvcfnwjxbgEAIOPHRLUYSTKDMZVCFNWJXBG\n",
      "d\n",
      "eoaidryuslfgwmbnhcvtpjkzqEOAIDRYUSLFGWMBNHCVTPJKZQ\n",
      "t\n",
      "eoaihrtyuslmcbnwzfkdpgjxvEOAIHRTYUSLMCBNWZFKDPGJXV\n",
      "a\n",
      "nrlstmcdiybgpvukwzhaxfeoqjNRLSTMCDIYBGPVUKWZHAXFEOQJ\n",
      "r\n",
      "eiaostdruylnmkcgbpfvhwjxqzEIAOSTDRUYLNMKCGBPFVHWJXQZ\n",
      "g\n",
      "eoaighrulsbmynfdtpkwcjqzEOAIGHRULSBMYNFDTPKWCJQZ\n",
      "h\n",
      "aeoiutrhynlmbpgdjcfwsxqkzvAEOIUTRHYNLMBPGDJCFWSXQKZV\n",
      "f\n",
      "iferaolutygmdscpnbvxzjwqIFERAOLUTYGMDSCPNBVXZJWQ\n",
      "l\n",
      "elaiouydstfmvbkpcgrwnzhqjxELAIOUYDSTFMVBKPCGRWNZHQJX\n",
      "w\n",
      "aieonhwskrbyglqmtpduvxcfjzAIEONHWSKRBYGLQMTPDUVXCFJZ\n",
      "j\n",
      "aoeujihvkwzyfdxnbqmsrAOEUJIHVKWZYFDXNBQMSR\n",
      "n\n",
      "egdaitnosckyubfzjmrhlwvpqxEGDAITNOSCKYUBFZJMRHLWVPQX\n",
      "k\n",
      "eiaysolkrnumjwcthbdpfxzqvgEIAYSOLKRNUMJWCTHBDPFXZQVG\n",
      "e\n",
      "rnslaetdymcbvwpgifxozkujhqRNSLAETDYMCBVWPGIFXOZKUJHQ\n",
      "v\n",
      "eiaovybjlucprfqdwtxnkgshEIAOVYBJLUCPRFQDWTXNKGSH\n",
      "i\n",
      "nescltagrmdopvkfizbxuqhjywNESCLTAGRMDOPVKFIZBXUQHJYW\n",
      "o\n",
      "nroltmuwsdpgckbyvahefxijzqNROLTMUWSDPGCKBYVAHEFXIJZQ\n",
      "z\n",
      "zaeoihxymultdnkwpqsgfbrZAEOIHXYMULTDNKWPQSGFBR\n",
      "q\n",
      "uwqaichzvlxjkgonyfbUWQAICHZVLXJKGONYFB\n",
      "y\n",
      "soeayldbnmtpcrwugvzhijfkxqSOEAYLDBNMTPCRWUGVZHIJFKXQ\n",
      "u\n",
      "snrtlmecdagbipfuzkxyovjwhSNRTLMECDAGBIPFUZKXYOVJWH\n",
      "x\n",
      "xicaetpymsrnoufdzwbqjhlXICAETPYMSRNOUFDZWBQJHL\n"
     ]
    }
   ],
   "source": [
    "for alpha in fcf_lst:\n",
    "    print(alpha)\n",
    "    print(scfl_dict[alpha], end='')\n",
    "    print(scfl_dict[alpha].upper())\n",
    "    "
   ]
  },
  {
   "cell_type": "code",
   "execution_count": 23,
   "metadata": {},
   "outputs": [],
   "source": [
    "file = open(\"sequential_char_freq.txt\", \"w\")\n",
    "\n",
    "for alpha in fcf_lst:\n",
    "    file.write(alpha + '\\n')\n",
    "    file.write(scfl_dict[alpha])\n",
    "    file.write(scfl_dict[alpha].upper() + '\\n')\n",
    "\n",
    "file.close()"
   ]
  },
  {
   "cell_type": "code",
   "execution_count": null,
   "metadata": {},
   "outputs": [],
   "source": []
  }
 ],
 "metadata": {
  "kernelspec": {
   "display_name": "Python 3",
   "language": "python",
   "name": "python3"
  },
  "language_info": {
   "codemirror_mode": {
    "name": "ipython",
    "version": 3
   },
   "file_extension": ".py",
   "mimetype": "text/x-python",
   "name": "python",
   "nbconvert_exporter": "python",
   "pygments_lexer": "ipython3",
   "version": "3.6.5"
  }
 },
 "nbformat": 4,
 "nbformat_minor": 2
}
